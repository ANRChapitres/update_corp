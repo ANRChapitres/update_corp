{
 "cells": [
  {
   "cell_type": "code",
   "execution_count": 2,
   "metadata": {},
   "outputs": [],
   "source": [
    "import sys\n",
    "import os\n",
    "import os.path\n",
    "import fnmatch\n",
    "from lxml import etree\n",
    "from lxml.etree import tostring\n",
    "import re\n",
    "from collections import defaultdict\n",
    "from collections import OrderedDict\n",
    "from shutil import copyfile\n",
    "import argparse"
   ]
  },
  {
   "cell_type": "code",
   "execution_count": null,
   "metadata": {},
   "outputs": [],
   "source": [
    "print('This software updates the restricted corpus from the global corpus \\nusage: --glob path/to/your/global/dir --rest path/to/your/restricted/dir/ --out path/to/your/target/dir/)\n",
    "parser = argparse.ArgumentParser()\n",
    "parser.add_argument('--glob', help= '/your/directory/to/global/dir/')\n",
    "parser.add_argument('--rest', help= '/your/directory/to/restricted/dir/')\n",
    "parser.add_argument('--out', help= '/your/directory/to/your/target/dir/')\n",
    "args = parser.parse_args()"
   ]
  },
  {
   "cell_type": "code",
   "execution_count": null,
   "metadata": {},
   "outputs": [],
   "source": [
    "restreint = args.glob\n",
    "romans = args.rest\n",
    "path_out = args.out"
   ]
  },
  {
   "cell_type": "code",
   "execution_count": 4,
   "metadata": {},
   "outputs": [
    {
     "name": "stdout",
     "output_type": "stream",
     "text": [
      "822\n"
     ]
    }
   ],
   "source": [
    "files_restreint=fnmatch.filter(os.listdir(restreint), '*.xml')\n",
    "files_romans=fnmatch.filter(os.listdir(romans), '*.xml')\n",
    "\n",
    "#print(files_restreint)\n",
    "\n",
    "count=0\n",
    "for bigger in files_restreint:\n",
    "    if any(bigger[4:] in s for s in files_romans):\n",
    "        copyfile(romans+bigger, path_out+bigger)\n",
    "        count+=1\n",
    "    else:\n",
    "        print(bigger)\n",
    "print (count)"
   ]
  }
 ],
 "metadata": {
  "kernelspec": {
   "display_name": "Python 3",
   "language": "python",
   "name": "python3"
  },
  "language_info": {
   "codemirror_mode": {
    "name": "ipython",
    "version": 3
   },
   "file_extension": ".py",
   "mimetype": "text/x-python",
   "name": "python",
   "nbconvert_exporter": "python",
   "pygments_lexer": "ipython3",
   "version": "3.5.2"
  }
 },
 "nbformat": 4,
 "nbformat_minor": 2
}
